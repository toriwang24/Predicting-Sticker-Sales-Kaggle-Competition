{
 "cells": [
  {
   "cell_type": "code",
   "execution_count": 1,
   "id": "707efeac",
   "metadata": {
    "_cell_guid": "b1076dfc-b9ad-4769-8c92-a6c4dae69d19",
    "_uuid": "8f2839f25d086af736a60e9eeb907d3b93b6e0e5",
    "execution": {
     "iopub.execute_input": "2025-01-29T18:58:29.461023Z",
     "iopub.status.busy": "2025-01-29T18:58:29.460546Z",
     "iopub.status.idle": "2025-01-29T18:58:30.458250Z",
     "shell.execute_reply": "2025-01-29T18:58:30.456916Z"
    },
    "papermill": {
     "duration": 1.006024,
     "end_time": "2025-01-29T18:58:30.460494",
     "exception": false,
     "start_time": "2025-01-29T18:58:29.454470",
     "status": "completed"
    },
    "tags": []
   },
   "outputs": [
    {
     "name": "stdout",
     "output_type": "stream",
     "text": [
      "/kaggle/input/playground-series-s5e1/sample_submission.csv\n",
      "/kaggle/input/playground-series-s5e1/train.csv\n",
      "/kaggle/input/playground-series-s5e1/test.csv\n"
     ]
    }
   ],
   "source": [
    "# This Python 3 environment comes with many helpful analytics libraries installed\n",
    "# It is defined by the kaggle/python Docker image: https://github.com/kaggle/docker-python\n",
    "# For example, here's several helpful packages to load\n",
    "\n",
    "import numpy as np # linear algebra\n",
    "import pandas as pd # data processing, CSV file I/O (e.g. pd.read_csv)\n",
    "\n",
    "# Input data files are available in the read-only \"../input/\" directory\n",
    "# For example, running this (by clicking run or pressing Shift+Enter) will list all files under the input directory\n",
    "\n",
    "import os\n",
    "for dirname, _, filenames in os.walk('/kaggle/input'):\n",
    "    for filename in filenames:\n",
    "        print(os.path.join(dirname, filename))\n",
    "\n",
    "# You can write up to 20GB to the current directory (/kaggle/working/) that gets preserved as output when you create a version using \"Save & Run All\" \n",
    "# You can also write temporary files to /kaggle/temp/, but they won't be saved outside of the current session"
   ]
  },
  {
   "cell_type": "code",
   "execution_count": 2,
   "id": "d93630c0",
   "metadata": {
    "execution": {
     "iopub.execute_input": "2025-01-29T18:58:30.471296Z",
     "iopub.status.busy": "2025-01-29T18:58:30.470669Z",
     "iopub.status.idle": "2025-01-29T18:58:33.082587Z",
     "shell.execute_reply": "2025-01-29T18:58:33.081281Z"
    },
    "papermill": {
     "duration": 2.619351,
     "end_time": "2025-01-29T18:58:33.084666",
     "exception": false,
     "start_time": "2025-01-29T18:58:30.465315",
     "status": "completed"
    },
    "tags": []
   },
   "outputs": [],
   "source": [
    "#inports\n",
    "import pandas as pd\n",
    "import matplotlib.pyplot as plt\n",
    "import seaborn as sns\n",
    "import numpy as np\n",
    "import sklearn\n",
    "# Import the necessary libraries\n",
    "from sklearn.ensemble import GradientBoostingRegressor\n",
    "from sklearn.model_selection import train_test_split\n",
    "from sklearn.metrics import mean_squared_error\n",
    "from sklearn.ensemble import RandomForestClassifier\n"
   ]
  },
  {
   "cell_type": "code",
   "execution_count": 3,
   "id": "ae02230b",
   "metadata": {
    "execution": {
     "iopub.execute_input": "2025-01-29T18:58:33.094982Z",
     "iopub.status.busy": "2025-01-29T18:58:33.094479Z",
     "iopub.status.idle": "2025-01-29T18:58:33.623395Z",
     "shell.execute_reply": "2025-01-29T18:58:33.622132Z"
    },
    "papermill": {
     "duration": 0.536119,
     "end_time": "2025-01-29T18:58:33.625458",
     "exception": false,
     "start_time": "2025-01-29T18:58:33.089339",
     "status": "completed"
    },
    "tags": []
   },
   "outputs": [],
   "source": [
    "df_train = pd.read_csv('/kaggle/input/playground-series-s5e1/train.csv')\n",
    "df_test = pd.read_csv('/kaggle/input/playground-series-s5e1/test.csv')\n",
    "df_sub = pd.read_csv('/kaggle/input/playground-series-s5e1/sample_submission.csv')"
   ]
  },
  {
   "cell_type": "code",
   "execution_count": 4,
   "id": "f891996a",
   "metadata": {
    "execution": {
     "iopub.execute_input": "2025-01-29T18:58:33.635658Z",
     "iopub.status.busy": "2025-01-29T18:58:33.635254Z",
     "iopub.status.idle": "2025-01-29T18:58:33.728229Z",
     "shell.execute_reply": "2025-01-29T18:58:33.727173Z"
    },
    "papermill": {
     "duration": 0.100449,
     "end_time": "2025-01-29T18:58:33.730315",
     "exception": false,
     "start_time": "2025-01-29T18:58:33.629866",
     "status": "completed"
    },
    "tags": []
   },
   "outputs": [],
   "source": [
    "#Extract month, day, and year from date column\n",
    "df_train['date'] = pd.to_datetime(df_train['date'])\n",
    "\n",
    "# Extract day, month, and year\n",
    "df_train['day'] = df_train['date'].dt.day\n",
    "df_train['month'] = df_train['date'].dt.month\n",
    "df_train['year'] = df_train['date'].dt.year\n",
    "\n",
    "\n",
    "#Doing same processes on the test dataset\n",
    "df_test['date'] = pd.to_datetime(df_test['date'])\n",
    "df_test['day'] = df_test['date'].dt.day\n",
    "df_test['month'] = df_test['date'].dt.month\n",
    "df_test['year'] = df_test['date'].dt.year"
   ]
  },
  {
   "cell_type": "code",
   "execution_count": 5,
   "id": "c87b8217",
   "metadata": {
    "execution": {
     "iopub.execute_input": "2025-01-29T18:58:33.740522Z",
     "iopub.status.busy": "2025-01-29T18:58:33.740121Z",
     "iopub.status.idle": "2025-01-29T18:58:33.747533Z",
     "shell.execute_reply": "2025-01-29T18:58:33.746300Z"
    },
    "papermill": {
     "duration": 0.01453,
     "end_time": "2025-01-29T18:58:33.749441",
     "exception": false,
     "start_time": "2025-01-29T18:58:33.734911",
     "status": "completed"
    },
    "tags": []
   },
   "outputs": [
    {
     "data": {
      "text/plain": [
       "Index(['id', 'date', 'country', 'store', 'product', 'num_sold', 'day', 'month',\n",
       "       'year'],\n",
       "      dtype='object')"
      ]
     },
     "execution_count": 5,
     "metadata": {},
     "output_type": "execute_result"
    }
   ],
   "source": [
    "df_train.columns"
   ]
  },
  {
   "cell_type": "code",
   "execution_count": 6,
   "id": "7f5f6606",
   "metadata": {
    "execution": {
     "iopub.execute_input": "2025-01-29T18:58:33.760878Z",
     "iopub.status.busy": "2025-01-29T18:58:33.760496Z",
     "iopub.status.idle": "2025-01-29T18:58:33.776026Z",
     "shell.execute_reply": "2025-01-29T18:58:33.774712Z"
    },
    "papermill": {
     "duration": 0.023239,
     "end_time": "2025-01-29T18:58:33.777993",
     "exception": false,
     "start_time": "2025-01-29T18:58:33.754754",
     "status": "completed"
    },
    "tags": []
   },
   "outputs": [
    {
     "name": "stderr",
     "output_type": "stream",
     "text": [
      "<ipython-input-6-f4ef0fc19425>:3: FutureWarning: A value is trying to be set on a copy of a DataFrame or Series through chained assignment using an inplace method.\n",
      "The behavior will change in pandas 3.0. This inplace method will never work because the intermediate object on which we are setting values always behaves as a copy.\n",
      "\n",
      "For example, when doing 'df[col].method(value, inplace=True)', try using 'df.method({col: value}, inplace=True)' or df[col] = df[col].method(value) instead, to perform the operation inplace on the original object.\n",
      "\n",
      "\n",
      "  df_train['num_sold'].fillna(df_train['num_sold'].mean(), inplace=True)\n"
     ]
    },
    {
     "data": {
      "text/plain": [
       "3"
      ]
     },
     "execution_count": 6,
     "metadata": {},
     "output_type": "execute_result"
    }
   ],
   "source": [
    "# Deal with NAN's\n",
    "# Replace NaN values with column means\n",
    "df_train['num_sold'].fillna(df_train['num_sold'].mean(), inplace=True)\n",
    "3"
   ]
  },
  {
   "cell_type": "code",
   "execution_count": 7,
   "id": "00fc1924",
   "metadata": {
    "execution": {
     "iopub.execute_input": "2025-01-29T18:58:33.788581Z",
     "iopub.status.busy": "2025-01-29T18:58:33.788223Z",
     "iopub.status.idle": "2025-01-29T18:58:33.886105Z",
     "shell.execute_reply": "2025-01-29T18:58:33.884906Z"
    },
    "papermill": {
     "duration": 0.105449,
     "end_time": "2025-01-29T18:58:33.888143",
     "exception": false,
     "start_time": "2025-01-29T18:58:33.782694",
     "status": "completed"
    },
    "tags": []
   },
   "outputs": [],
   "source": [
    "# encoding categorical fields\n",
    "df_train_encoded = pd.get_dummies(df_train)"
   ]
  },
  {
   "cell_type": "code",
   "execution_count": 8,
   "id": "293878e3",
   "metadata": {
    "execution": {
     "iopub.execute_input": "2025-01-29T18:58:33.898634Z",
     "iopub.status.busy": "2025-01-29T18:58:33.898228Z",
     "iopub.status.idle": "2025-01-29T18:58:33.904621Z",
     "shell.execute_reply": "2025-01-29T18:58:33.903425Z"
    },
    "papermill": {
     "duration": 0.013845,
     "end_time": "2025-01-29T18:58:33.906551",
     "exception": false,
     "start_time": "2025-01-29T18:58:33.892706",
     "status": "completed"
    },
    "tags": []
   },
   "outputs": [
    {
     "data": {
      "text/plain": [
       "Index(['id', 'date', 'num_sold', 'day', 'month', 'year', 'country_Canada',\n",
       "       'country_Finland', 'country_Italy', 'country_Kenya', 'country_Norway',\n",
       "       'country_Singapore', 'store_Discount Stickers',\n",
       "       'store_Premium Sticker Mart', 'store_Stickers for Less',\n",
       "       'product_Holographic Goose', 'product_Kaggle', 'product_Kaggle Tiers',\n",
       "       'product_Kerneler', 'product_Kerneler Dark Mode'],\n",
       "      dtype='object')"
      ]
     },
     "execution_count": 8,
     "metadata": {},
     "output_type": "execute_result"
    }
   ],
   "source": [
    "df_train_encoded.columns"
   ]
  },
  {
   "cell_type": "code",
   "execution_count": 9,
   "id": "ce6a1cab",
   "metadata": {
    "execution": {
     "iopub.execute_input": "2025-01-29T18:58:33.917307Z",
     "iopub.status.busy": "2025-01-29T18:58:33.916888Z",
     "iopub.status.idle": "2025-01-29T18:58:33.953111Z",
     "shell.execute_reply": "2025-01-29T18:58:33.952114Z"
    },
    "papermill": {
     "duration": 0.043742,
     "end_time": "2025-01-29T18:58:33.954997",
     "exception": false,
     "start_time": "2025-01-29T18:58:33.911255",
     "status": "completed"
    },
    "tags": []
   },
   "outputs": [],
   "source": [
    "#print(df_train.head())\n",
    "#features = ['country', 'store', 'product'\n",
    "#            , 'day', 'month','year']\n",
    "X = df_train_encoded.drop(['id', 'date', 'num_sold'], axis=1)\n",
    "y = df_train_encoded['num_sold']\n",
    "\n",
    "train_X, val_X, train_y, val_y = train_test_split(X, y, random_state=1)\n",
    "SEED = 23\n"
   ]
  },
  {
   "cell_type": "code",
   "execution_count": 10,
   "id": "66ea9618",
   "metadata": {
    "execution": {
     "iopub.execute_input": "2025-01-29T18:58:33.966340Z",
     "iopub.status.busy": "2025-01-29T18:58:33.965743Z",
     "iopub.status.idle": "2025-01-29T18:58:33.970561Z",
     "shell.execute_reply": "2025-01-29T18:58:33.969532Z"
    },
    "papermill": {
     "duration": 0.011994,
     "end_time": "2025-01-29T18:58:33.972158",
     "exception": false,
     "start_time": "2025-01-29T18:58:33.960164",
     "status": "completed"
    },
    "tags": []
   },
   "outputs": [],
   "source": [
    "# Create Gradient Bosoting Regressor\n",
    "gbr = GradientBoostingRegressor(loss='absolute_error',\n",
    "                                learning_rate=0.1,\n",
    "                                n_estimators=300,\n",
    "                                max_depth = 1, \n",
    "                                random_state = SEED,\n",
    "                                max_features = 5)"
   ]
  },
  {
   "cell_type": "code",
   "execution_count": 11,
   "id": "1000c726",
   "metadata": {
    "execution": {
     "iopub.execute_input": "2025-01-29T18:58:33.982882Z",
     "iopub.status.busy": "2025-01-29T18:58:33.982550Z",
     "iopub.status.idle": "2025-01-29T18:58:49.619343Z",
     "shell.execute_reply": "2025-01-29T18:58:49.618124Z"
    },
    "papermill": {
     "duration": 15.644358,
     "end_time": "2025-01-29T18:58:49.621249",
     "exception": false,
     "start_time": "2025-01-29T18:58:33.976891",
     "status": "completed"
    },
    "tags": []
   },
   "outputs": [
    {
     "data": {
      "text/html": [
       "<style>#sk-container-id-1 {color: black;background-color: white;}#sk-container-id-1 pre{padding: 0;}#sk-container-id-1 div.sk-toggleable {background-color: white;}#sk-container-id-1 label.sk-toggleable__label {cursor: pointer;display: block;width: 100%;margin-bottom: 0;padding: 0.3em;box-sizing: border-box;text-align: center;}#sk-container-id-1 label.sk-toggleable__label-arrow:before {content: \"▸\";float: left;margin-right: 0.25em;color: #696969;}#sk-container-id-1 label.sk-toggleable__label-arrow:hover:before {color: black;}#sk-container-id-1 div.sk-estimator:hover label.sk-toggleable__label-arrow:before {color: black;}#sk-container-id-1 div.sk-toggleable__content {max-height: 0;max-width: 0;overflow: hidden;text-align: left;background-color: #f0f8ff;}#sk-container-id-1 div.sk-toggleable__content pre {margin: 0.2em;color: black;border-radius: 0.25em;background-color: #f0f8ff;}#sk-container-id-1 input.sk-toggleable__control:checked~div.sk-toggleable__content {max-height: 200px;max-width: 100%;overflow: auto;}#sk-container-id-1 input.sk-toggleable__control:checked~label.sk-toggleable__label-arrow:before {content: \"▾\";}#sk-container-id-1 div.sk-estimator input.sk-toggleable__control:checked~label.sk-toggleable__label {background-color: #d4ebff;}#sk-container-id-1 div.sk-label input.sk-toggleable__control:checked~label.sk-toggleable__label {background-color: #d4ebff;}#sk-container-id-1 input.sk-hidden--visually {border: 0;clip: rect(1px 1px 1px 1px);clip: rect(1px, 1px, 1px, 1px);height: 1px;margin: -1px;overflow: hidden;padding: 0;position: absolute;width: 1px;}#sk-container-id-1 div.sk-estimator {font-family: monospace;background-color: #f0f8ff;border: 1px dotted black;border-radius: 0.25em;box-sizing: border-box;margin-bottom: 0.5em;}#sk-container-id-1 div.sk-estimator:hover {background-color: #d4ebff;}#sk-container-id-1 div.sk-parallel-item::after {content: \"\";width: 100%;border-bottom: 1px solid gray;flex-grow: 1;}#sk-container-id-1 div.sk-label:hover label.sk-toggleable__label {background-color: #d4ebff;}#sk-container-id-1 div.sk-serial::before {content: \"\";position: absolute;border-left: 1px solid gray;box-sizing: border-box;top: 0;bottom: 0;left: 50%;z-index: 0;}#sk-container-id-1 div.sk-serial {display: flex;flex-direction: column;align-items: center;background-color: white;padding-right: 0.2em;padding-left: 0.2em;position: relative;}#sk-container-id-1 div.sk-item {position: relative;z-index: 1;}#sk-container-id-1 div.sk-parallel {display: flex;align-items: stretch;justify-content: center;background-color: white;position: relative;}#sk-container-id-1 div.sk-item::before, #sk-container-id-1 div.sk-parallel-item::before {content: \"\";position: absolute;border-left: 1px solid gray;box-sizing: border-box;top: 0;bottom: 0;left: 50%;z-index: -1;}#sk-container-id-1 div.sk-parallel-item {display: flex;flex-direction: column;z-index: 1;position: relative;background-color: white;}#sk-container-id-1 div.sk-parallel-item:first-child::after {align-self: flex-end;width: 50%;}#sk-container-id-1 div.sk-parallel-item:last-child::after {align-self: flex-start;width: 50%;}#sk-container-id-1 div.sk-parallel-item:only-child::after {width: 0;}#sk-container-id-1 div.sk-dashed-wrapped {border: 1px dashed gray;margin: 0 0.4em 0.5em 0.4em;box-sizing: border-box;padding-bottom: 0.4em;background-color: white;}#sk-container-id-1 div.sk-label label {font-family: monospace;font-weight: bold;display: inline-block;line-height: 1.2em;}#sk-container-id-1 div.sk-label-container {text-align: center;}#sk-container-id-1 div.sk-container {/* jupyter's `normalize.less` sets `[hidden] { display: none; }` but bootstrap.min.css set `[hidden] { display: none !important; }` so we also need the `!important` here to be able to override the default hidden behavior on the sphinx rendered scikit-learn.org. See: https://github.com/scikit-learn/scikit-learn/issues/21755 */display: inline-block !important;position: relative;}#sk-container-id-1 div.sk-text-repr-fallback {display: none;}</style><div id=\"sk-container-id-1\" class=\"sk-top-container\"><div class=\"sk-text-repr-fallback\"><pre>GradientBoostingRegressor(loss=&#x27;absolute_error&#x27;, max_depth=1, max_features=5,\n",
       "                          n_estimators=300, random_state=23)</pre><b>In a Jupyter environment, please rerun this cell to show the HTML representation or trust the notebook. <br />On GitHub, the HTML representation is unable to render, please try loading this page with nbviewer.org.</b></div><div class=\"sk-container\" hidden><div class=\"sk-item\"><div class=\"sk-estimator sk-toggleable\"><input class=\"sk-toggleable__control sk-hidden--visually\" id=\"sk-estimator-id-1\" type=\"checkbox\" checked><label for=\"sk-estimator-id-1\" class=\"sk-toggleable__label sk-toggleable__label-arrow\">GradientBoostingRegressor</label><div class=\"sk-toggleable__content\"><pre>GradientBoostingRegressor(loss=&#x27;absolute_error&#x27;, max_depth=1, max_features=5,\n",
       "                          n_estimators=300, random_state=23)</pre></div></div></div></div></div>"
      ],
      "text/plain": [
       "GradientBoostingRegressor(loss='absolute_error', max_depth=1, max_features=5,\n",
       "                          n_estimators=300, random_state=23)"
      ]
     },
     "execution_count": 11,
     "metadata": {},
     "output_type": "execute_result"
    }
   ],
   "source": [
    "gbr.fit(train_X, train_y)"
   ]
  },
  {
   "cell_type": "code",
   "execution_count": 12,
   "id": "91cd9116",
   "metadata": {
    "execution": {
     "iopub.execute_input": "2025-01-29T18:58:49.632892Z",
     "iopub.status.busy": "2025-01-29T18:58:49.632475Z",
     "iopub.status.idle": "2025-01-29T18:58:49.780361Z",
     "shell.execute_reply": "2025-01-29T18:58:49.778787Z"
    },
    "papermill": {
     "duration": 0.155769,
     "end_time": "2025-01-29T18:58:49.782192",
     "exception": false,
     "start_time": "2025-01-29T18:58:49.626423",
     "status": "completed"
    },
    "tags": []
   },
   "outputs": [
    {
     "name": "stdout",
     "output_type": "stream",
     "text": [
      "Root mean Square error: 394.50\n"
     ]
    }
   ],
   "source": [
    "pred_y = gbr.predict(val_X)\n",
    "test_rmse = mean_squared_error(val_y, pred_y) ** (1 / 2)\n",
    "print('Root mean Square error: {:.2f}'.format(test_rmse))\n"
   ]
  },
  {
   "cell_type": "code",
   "execution_count": 13,
   "id": "68ed3fb1",
   "metadata": {
    "execution": {
     "iopub.execute_input": "2025-01-29T18:58:49.793454Z",
     "iopub.status.busy": "2025-01-29T18:58:49.793032Z",
     "iopub.status.idle": "2025-01-29T18:58:49.804407Z",
     "shell.execute_reply": "2025-01-29T18:58:49.803459Z"
    },
    "papermill": {
     "duration": 0.018961,
     "end_time": "2025-01-29T18:58:49.806132",
     "exception": false,
     "start_time": "2025-01-29T18:58:49.787171",
     "status": "completed"
    },
    "tags": []
   },
   "outputs": [
    {
     "data": {
      "text/plain": [
       "3.196219081568321"
      ]
     },
     "execution_count": 13,
     "metadata": {},
     "output_type": "execute_result"
    }
   ],
   "source": [
    "sklearn.metrics.mean_absolute_percentage_error(val_y, pred_y)"
   ]
  },
  {
   "cell_type": "markdown",
   "id": "8afa191a",
   "metadata": {
    "papermill": {
     "duration": 0.004624,
     "end_time": "2025-01-29T18:58:49.815826",
     "exception": false,
     "start_time": "2025-01-29T18:58:49.811202",
     "status": "completed"
    },
    "tags": []
   },
   "source": [
    "## Apply the same feature processing to the test Dataset"
   ]
  },
  {
   "cell_type": "code",
   "execution_count": 14,
   "id": "3d14891a",
   "metadata": {
    "execution": {
     "iopub.execute_input": "2025-01-29T18:58:49.826846Z",
     "iopub.status.busy": "2025-01-29T18:58:49.826504Z",
     "iopub.status.idle": "2025-01-29T18:58:49.859915Z",
     "shell.execute_reply": "2025-01-29T18:58:49.858689Z"
    },
    "papermill": {
     "duration": 0.041081,
     "end_time": "2025-01-29T18:58:49.861892",
     "exception": false,
     "start_time": "2025-01-29T18:58:49.820811",
     "status": "completed"
    },
    "tags": []
   },
   "outputs": [],
   "source": [
    "df_test_encoded = pd.get_dummies(df_test)"
   ]
  },
  {
   "cell_type": "code",
   "execution_count": 15,
   "id": "f1835eea",
   "metadata": {
    "execution": {
     "iopub.execute_input": "2025-01-29T18:58:49.873612Z",
     "iopub.status.busy": "2025-01-29T18:58:49.873219Z",
     "iopub.status.idle": "2025-01-29T18:58:50.007278Z",
     "shell.execute_reply": "2025-01-29T18:58:50.006233Z"
    },
    "papermill": {
     "duration": 0.141951,
     "end_time": "2025-01-29T18:58:50.009226",
     "exception": false,
     "start_time": "2025-01-29T18:58:49.867275",
     "status": "completed"
    },
    "tags": []
   },
   "outputs": [],
   "source": [
    "#print(df_train.head())\n",
    "#features = ['country', 'store', 'product'\n",
    "#            , 'day', 'month','year']\n",
    "test_X = df_test_encoded.drop(['id', 'date'], axis=1)\n",
    "\n",
    "pred_y = gbr.predict(test_X)\n"
   ]
  },
  {
   "cell_type": "code",
   "execution_count": 16,
   "id": "809ca694",
   "metadata": {
    "execution": {
     "iopub.execute_input": "2025-01-29T18:58:50.021435Z",
     "iopub.status.busy": "2025-01-29T18:58:50.020998Z",
     "iopub.status.idle": "2025-01-29T18:58:50.236225Z",
     "shell.execute_reply": "2025-01-29T18:58:50.235140Z"
    },
    "papermill": {
     "duration": 0.223641,
     "end_time": "2025-01-29T18:58:50.238279",
     "exception": false,
     "start_time": "2025-01-29T18:58:50.014638",
     "status": "completed"
    },
    "tags": []
   },
   "outputs": [],
   "source": [
    "#import pandas as pd\n",
    "#test = pd.read_csv(\"test.csv\")\n",
    "df_test[\"num_sold\"] = pred_y\n",
    "df_test[[\"id\",\"num_sold\"]].to_csv(\"submission.csv\",index=False)"
   ]
  },
  {
   "cell_type": "code",
   "execution_count": null,
   "id": "853cb03e",
   "metadata": {
    "papermill": {
     "duration": 0.004521,
     "end_time": "2025-01-29T18:58:50.248057",
     "exception": false,
     "start_time": "2025-01-29T18:58:50.243536",
     "status": "completed"
    },
    "tags": []
   },
   "outputs": [],
   "source": []
  }
 ],
 "metadata": {
  "kaggle": {
   "accelerator": "none",
   "dataSources": [
    {
     "databundleVersionId": 10652996,
     "sourceId": 85723,
     "sourceType": "competition"
    }
   ],
   "dockerImageVersionId": 30839,
   "isGpuEnabled": false,
   "isInternetEnabled": true,
   "language": "python",
   "sourceType": "notebook"
  },
  "kernelspec": {
   "display_name": "Python 3",
   "language": "python",
   "name": "python3"
  },
  "language_info": {
   "codemirror_mode": {
    "name": "ipython",
    "version": 3
   },
   "file_extension": ".py",
   "mimetype": "text/x-python",
   "name": "python",
   "nbconvert_exporter": "python",
   "pygments_lexer": "ipython3",
   "version": "3.10.12"
  },
  "papermill": {
   "default_parameters": {},
   "duration": 24.376496,
   "end_time": "2025-01-29T18:58:50.975055",
   "environment_variables": {},
   "exception": null,
   "input_path": "__notebook__.ipynb",
   "output_path": "__notebook__.ipynb",
   "parameters": {},
   "start_time": "2025-01-29T18:58:26.598559",
   "version": "2.6.0"
  }
 },
 "nbformat": 4,
 "nbformat_minor": 5
}
