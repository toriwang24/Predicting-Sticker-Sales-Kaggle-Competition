{
 "cells": [
  {
   "cell_type": "code",
   "execution_count": 1,
   "id": "7388c3bf",
   "metadata": {
    "_cell_guid": "b1076dfc-b9ad-4769-8c92-a6c4dae69d19",
    "_uuid": "8f2839f25d086af736a60e9eeb907d3b93b6e0e5",
    "execution": {
     "iopub.execute_input": "2025-01-29T18:35:06.947826Z",
     "iopub.status.busy": "2025-01-29T18:35:06.947461Z",
     "iopub.status.idle": "2025-01-29T18:35:07.717739Z",
     "shell.execute_reply": "2025-01-29T18:35:07.716482Z"
    },
    "papermill": {
     "duration": 0.778268,
     "end_time": "2025-01-29T18:35:07.719707",
     "exception": false,
     "start_time": "2025-01-29T18:35:06.941439",
     "status": "completed"
    },
    "tags": []
   },
   "outputs": [
    {
     "name": "stdout",
     "output_type": "stream",
     "text": [
      "/kaggle/input/playground-series-s5e1/sample_submission.csv\n",
      "/kaggle/input/playground-series-s5e1/train.csv\n",
      "/kaggle/input/playground-series-s5e1/test.csv\n"
     ]
    }
   ],
   "source": [
    "# This Python 3 environment comes with many helpful analytics libraries installed\n",
    "# It is defined by the kaggle/python Docker image: https://github.com/kaggle/docker-python\n",
    "# For example, here's several helpful packages to load\n",
    "\n",
    "import numpy as np # linear algebra\n",
    "import pandas as pd # data processing, CSV file I/O (e.g. pd.read_csv)\n",
    "\n",
    "# Input data files are available in the read-only \"../input/\" directory\n",
    "# For example, running this (by clicking run or pressing Shift+Enter) will list all files under the input directory\n",
    "\n",
    "import os\n",
    "for dirname, _, filenames in os.walk('/kaggle/input'):\n",
    "    for filename in filenames:\n",
    "        print(os.path.join(dirname, filename))\n",
    "\n",
    "# You can write up to 20GB to the current directory (/kaggle/working/) that gets preserved as output when you create a version using \"Save & Run All\" \n",
    "# You can also write temporary files to /kaggle/temp/, but they won't be saved outside of the current session"
   ]
  },
  {
   "cell_type": "code",
   "execution_count": 2,
   "id": "4ec51344",
   "metadata": {
    "execution": {
     "iopub.execute_input": "2025-01-29T18:35:07.729426Z",
     "iopub.status.busy": "2025-01-29T18:35:07.728976Z",
     "iopub.status.idle": "2025-01-29T18:35:09.938549Z",
     "shell.execute_reply": "2025-01-29T18:35:09.937374Z"
    },
    "papermill": {
     "duration": 2.216433,
     "end_time": "2025-01-29T18:35:09.940591",
     "exception": false,
     "start_time": "2025-01-29T18:35:07.724158",
     "status": "completed"
    },
    "tags": []
   },
   "outputs": [],
   "source": [
    "#inports\n",
    "import pandas as pd\n",
    "import matplotlib.pyplot as plt\n",
    "import seaborn as sns\n",
    "import numpy as np\n",
    "import sklearn\n",
    "# Import the necessary libraries\n",
    "from sklearn.ensemble import GradientBoostingRegressor\n",
    "from sklearn.model_selection import train_test_split\n",
    "from sklearn.metrics import mean_squared_error\n",
    "from sklearn.ensemble import RandomForestClassifier\n"
   ]
  },
  {
   "cell_type": "code",
   "execution_count": 3,
   "id": "a4b69788",
   "metadata": {
    "execution": {
     "iopub.execute_input": "2025-01-29T18:35:09.950392Z",
     "iopub.status.busy": "2025-01-29T18:35:09.949836Z",
     "iopub.status.idle": "2025-01-29T18:35:10.472376Z",
     "shell.execute_reply": "2025-01-29T18:35:10.471386Z"
    },
    "papermill": {
     "duration": 0.529511,
     "end_time": "2025-01-29T18:35:10.474392",
     "exception": false,
     "start_time": "2025-01-29T18:35:09.944881",
     "status": "completed"
    },
    "tags": []
   },
   "outputs": [],
   "source": [
    "df_train = pd.read_csv('/kaggle/input/playground-series-s5e1/train.csv')\n",
    "df_test = pd.read_csv('/kaggle/input/playground-series-s5e1/test.csv')\n",
    "df_sub = pd.read_csv('/kaggle/input/playground-series-s5e1/sample_submission.csv')"
   ]
  },
  {
   "cell_type": "code",
   "execution_count": 4,
   "id": "f4c41feb",
   "metadata": {
    "execution": {
     "iopub.execute_input": "2025-01-29T18:35:10.483849Z",
     "iopub.status.busy": "2025-01-29T18:35:10.483502Z",
     "iopub.status.idle": "2025-01-29T18:35:10.572753Z",
     "shell.execute_reply": "2025-01-29T18:35:10.571852Z"
    },
    "papermill": {
     "duration": 0.096287,
     "end_time": "2025-01-29T18:35:10.574848",
     "exception": false,
     "start_time": "2025-01-29T18:35:10.478561",
     "status": "completed"
    },
    "tags": []
   },
   "outputs": [],
   "source": [
    "#Extract month, day, and year from date column\n",
    "df_train['date'] = pd.to_datetime(df_train['date'])\n",
    "\n",
    "# Extract day, month, and year\n",
    "df_train['day'] = df_train['date'].dt.day\n",
    "df_train['month'] = df_train['date'].dt.month\n",
    "df_train['year'] = df_train['date'].dt.year\n",
    "\n",
    "\n",
    "#Doing same processes on the test dataset\n",
    "df_test['date'] = pd.to_datetime(df_test['date'])\n",
    "df_test['day'] = df_test['date'].dt.day\n",
    "df_test['month'] = df_test['date'].dt.month\n",
    "df_test['year'] = df_test['date'].dt.year"
   ]
  },
  {
   "cell_type": "code",
   "execution_count": 5,
   "id": "f0e232bf",
   "metadata": {
    "execution": {
     "iopub.execute_input": "2025-01-29T18:35:10.584475Z",
     "iopub.status.busy": "2025-01-29T18:35:10.584116Z",
     "iopub.status.idle": "2025-01-29T18:35:10.591255Z",
     "shell.execute_reply": "2025-01-29T18:35:10.590067Z"
    },
    "papermill": {
     "duration": 0.013961,
     "end_time": "2025-01-29T18:35:10.593019",
     "exception": false,
     "start_time": "2025-01-29T18:35:10.579058",
     "status": "completed"
    },
    "tags": []
   },
   "outputs": [
    {
     "data": {
      "text/plain": [
       "Index(['id', 'date', 'country', 'store', 'product', 'num_sold', 'day', 'month',\n",
       "       'year'],\n",
       "      dtype='object')"
      ]
     },
     "execution_count": 5,
     "metadata": {},
     "output_type": "execute_result"
    }
   ],
   "source": [
    "df_train.columns"
   ]
  },
  {
   "cell_type": "code",
   "execution_count": 6,
   "id": "05dc7e87",
   "metadata": {
    "execution": {
     "iopub.execute_input": "2025-01-29T18:35:10.602799Z",
     "iopub.status.busy": "2025-01-29T18:35:10.602445Z",
     "iopub.status.idle": "2025-01-29T18:35:10.617401Z",
     "shell.execute_reply": "2025-01-29T18:35:10.616034Z"
    },
    "papermill": {
     "duration": 0.021811,
     "end_time": "2025-01-29T18:35:10.619068",
     "exception": false,
     "start_time": "2025-01-29T18:35:10.597257",
     "status": "completed"
    },
    "tags": []
   },
   "outputs": [
    {
     "name": "stderr",
     "output_type": "stream",
     "text": [
      "<ipython-input-6-f4ef0fc19425>:3: FutureWarning: A value is trying to be set on a copy of a DataFrame or Series through chained assignment using an inplace method.\n",
      "The behavior will change in pandas 3.0. This inplace method will never work because the intermediate object on which we are setting values always behaves as a copy.\n",
      "\n",
      "For example, when doing 'df[col].method(value, inplace=True)', try using 'df.method({col: value}, inplace=True)' or df[col] = df[col].method(value) instead, to perform the operation inplace on the original object.\n",
      "\n",
      "\n",
      "  df_train['num_sold'].fillna(df_train['num_sold'].mean(), inplace=True)\n"
     ]
    },
    {
     "data": {
      "text/plain": [
       "3"
      ]
     },
     "execution_count": 6,
     "metadata": {},
     "output_type": "execute_result"
    }
   ],
   "source": [
    "# Deal with NAN's\n",
    "# Replace NaN values with column means\n",
    "df_train['num_sold'].fillna(df_train['num_sold'].mean(), inplace=True)\n",
    "3"
   ]
  },
  {
   "cell_type": "code",
   "execution_count": 7,
   "id": "40aa216d",
   "metadata": {
    "execution": {
     "iopub.execute_input": "2025-01-29T18:35:10.629032Z",
     "iopub.status.busy": "2025-01-29T18:35:10.628637Z",
     "iopub.status.idle": "2025-01-29T18:35:10.725614Z",
     "shell.execute_reply": "2025-01-29T18:35:10.724581Z"
    },
    "papermill": {
     "duration": 0.104109,
     "end_time": "2025-01-29T18:35:10.727600",
     "exception": false,
     "start_time": "2025-01-29T18:35:10.623491",
     "status": "completed"
    },
    "tags": []
   },
   "outputs": [],
   "source": [
    "# encoding categorical fields\n",
    "df_train_encoded = pd.get_dummies(df_train)"
   ]
  },
  {
   "cell_type": "code",
   "execution_count": 8,
   "id": "1933ad63",
   "metadata": {
    "execution": {
     "iopub.execute_input": "2025-01-29T18:35:10.737859Z",
     "iopub.status.busy": "2025-01-29T18:35:10.737468Z",
     "iopub.status.idle": "2025-01-29T18:35:10.743473Z",
     "shell.execute_reply": "2025-01-29T18:35:10.742567Z"
    },
    "papermill": {
     "duration": 0.01286,
     "end_time": "2025-01-29T18:35:10.745052",
     "exception": false,
     "start_time": "2025-01-29T18:35:10.732192",
     "status": "completed"
    },
    "tags": []
   },
   "outputs": [
    {
     "data": {
      "text/plain": [
       "Index(['id', 'date', 'num_sold', 'day', 'month', 'year', 'country_Canada',\n",
       "       'country_Finland', 'country_Italy', 'country_Kenya', 'country_Norway',\n",
       "       'country_Singapore', 'store_Discount Stickers',\n",
       "       'store_Premium Sticker Mart', 'store_Stickers for Less',\n",
       "       'product_Holographic Goose', 'product_Kaggle', 'product_Kaggle Tiers',\n",
       "       'product_Kerneler', 'product_Kerneler Dark Mode'],\n",
       "      dtype='object')"
      ]
     },
     "execution_count": 8,
     "metadata": {},
     "output_type": "execute_result"
    }
   ],
   "source": [
    "df_train_encoded.columns"
   ]
  },
  {
   "cell_type": "code",
   "execution_count": 9,
   "id": "4cf110a4",
   "metadata": {
    "execution": {
     "iopub.execute_input": "2025-01-29T18:35:10.755403Z",
     "iopub.status.busy": "2025-01-29T18:35:10.755043Z",
     "iopub.status.idle": "2025-01-29T18:35:10.789365Z",
     "shell.execute_reply": "2025-01-29T18:35:10.788426Z"
    },
    "papermill": {
     "duration": 0.041673,
     "end_time": "2025-01-29T18:35:10.791337",
     "exception": false,
     "start_time": "2025-01-29T18:35:10.749664",
     "status": "completed"
    },
    "tags": []
   },
   "outputs": [],
   "source": [
    "#print(df_train.head())\n",
    "#features = ['country', 'store', 'product'\n",
    "#            , 'day', 'month','year']\n",
    "X = df_train_encoded.drop(['id', 'date', 'num_sold'], axis=1)\n",
    "y = df_train_encoded['num_sold']\n",
    "\n",
    "train_X, val_X, train_y, val_y = train_test_split(X, y, random_state=1)\n",
    "SEED = 23\n"
   ]
  },
  {
   "cell_type": "markdown",
   "id": "dd814d0c",
   "metadata": {
    "execution": {
     "iopub.execute_input": "2025-01-29T18:30:01.406383Z",
     "iopub.status.busy": "2025-01-29T18:30:01.406065Z",
     "iopub.status.idle": "2025-01-29T18:30:01.440977Z",
     "shell.execute_reply": "2025-01-29T18:30:01.439443Z",
     "shell.execute_reply.started": "2025-01-29T18:30:01.406357Z"
    },
    "papermill": {
     "duration": 0.004174,
     "end_time": "2025-01-29T18:35:10.800153",
     "exception": false,
     "start_time": "2025-01-29T18:35:10.795979",
     "status": "completed"
    },
    "tags": []
   },
   "source": [
    "model = RandomForestClassifier()\n",
    "model.fit(X, y)\n",
    "\n",
    "# Create a DataFrame to store feature importances\n",
    "feature_importances = pd.DataFrame({'Feature': X.columns, 'Importance': model.feature_importances_})\n",
    "feature_importances.sort_values(by='Importance', ascending=False, inplace=True)\n",
    "\n",
    "# Visualize the top N important features\n",
    "top_n = 10\n",
    "plt.barh(feature_importances['Feature'][:top_n], feature_importances['Importance'][:top_n])\n",
    "plt.xlabel('Importance')\n",
    "plt.ylabel('Feature')\n",
    "plt.show()"
   ]
  },
  {
   "cell_type": "code",
   "execution_count": 10,
   "id": "5eb2f557",
   "metadata": {
    "execution": {
     "iopub.execute_input": "2025-01-29T18:35:10.810129Z",
     "iopub.status.busy": "2025-01-29T18:35:10.809726Z",
     "iopub.status.idle": "2025-01-29T18:35:10.814330Z",
     "shell.execute_reply": "2025-01-29T18:35:10.813249Z"
    },
    "papermill": {
     "duration": 0.011425,
     "end_time": "2025-01-29T18:35:10.815966",
     "exception": false,
     "start_time": "2025-01-29T18:35:10.804541",
     "status": "completed"
    },
    "tags": []
   },
   "outputs": [],
   "source": [
    "# Create Gradient Bosoting Regressor\n",
    "gbr = GradientBoostingRegressor(loss='absolute_error',\n",
    "                                learning_rate=0.1,\n",
    "                                n_estimators=300,\n",
    "                                max_depth = 1, \n",
    "                                random_state = SEED,\n",
    "                                max_features = 5)"
   ]
  },
  {
   "cell_type": "code",
   "execution_count": 11,
   "id": "b2c055ac",
   "metadata": {
    "execution": {
     "iopub.execute_input": "2025-01-29T18:35:10.826412Z",
     "iopub.status.busy": "2025-01-29T18:35:10.826026Z",
     "iopub.status.idle": "2025-01-29T18:35:26.123894Z",
     "shell.execute_reply": "2025-01-29T18:35:26.122832Z"
    },
    "papermill": {
     "duration": 15.305164,
     "end_time": "2025-01-29T18:35:26.125677",
     "exception": false,
     "start_time": "2025-01-29T18:35:10.820513",
     "status": "completed"
    },
    "tags": []
   },
   "outputs": [
    {
     "data": {
      "text/html": [
       "<style>#sk-container-id-1 {color: black;background-color: white;}#sk-container-id-1 pre{padding: 0;}#sk-container-id-1 div.sk-toggleable {background-color: white;}#sk-container-id-1 label.sk-toggleable__label {cursor: pointer;display: block;width: 100%;margin-bottom: 0;padding: 0.3em;box-sizing: border-box;text-align: center;}#sk-container-id-1 label.sk-toggleable__label-arrow:before {content: \"▸\";float: left;margin-right: 0.25em;color: #696969;}#sk-container-id-1 label.sk-toggleable__label-arrow:hover:before {color: black;}#sk-container-id-1 div.sk-estimator:hover label.sk-toggleable__label-arrow:before {color: black;}#sk-container-id-1 div.sk-toggleable__content {max-height: 0;max-width: 0;overflow: hidden;text-align: left;background-color: #f0f8ff;}#sk-container-id-1 div.sk-toggleable__content pre {margin: 0.2em;color: black;border-radius: 0.25em;background-color: #f0f8ff;}#sk-container-id-1 input.sk-toggleable__control:checked~div.sk-toggleable__content {max-height: 200px;max-width: 100%;overflow: auto;}#sk-container-id-1 input.sk-toggleable__control:checked~label.sk-toggleable__label-arrow:before {content: \"▾\";}#sk-container-id-1 div.sk-estimator input.sk-toggleable__control:checked~label.sk-toggleable__label {background-color: #d4ebff;}#sk-container-id-1 div.sk-label input.sk-toggleable__control:checked~label.sk-toggleable__label {background-color: #d4ebff;}#sk-container-id-1 input.sk-hidden--visually {border: 0;clip: rect(1px 1px 1px 1px);clip: rect(1px, 1px, 1px, 1px);height: 1px;margin: -1px;overflow: hidden;padding: 0;position: absolute;width: 1px;}#sk-container-id-1 div.sk-estimator {font-family: monospace;background-color: #f0f8ff;border: 1px dotted black;border-radius: 0.25em;box-sizing: border-box;margin-bottom: 0.5em;}#sk-container-id-1 div.sk-estimator:hover {background-color: #d4ebff;}#sk-container-id-1 div.sk-parallel-item::after {content: \"\";width: 100%;border-bottom: 1px solid gray;flex-grow: 1;}#sk-container-id-1 div.sk-label:hover label.sk-toggleable__label {background-color: #d4ebff;}#sk-container-id-1 div.sk-serial::before {content: \"\";position: absolute;border-left: 1px solid gray;box-sizing: border-box;top: 0;bottom: 0;left: 50%;z-index: 0;}#sk-container-id-1 div.sk-serial {display: flex;flex-direction: column;align-items: center;background-color: white;padding-right: 0.2em;padding-left: 0.2em;position: relative;}#sk-container-id-1 div.sk-item {position: relative;z-index: 1;}#sk-container-id-1 div.sk-parallel {display: flex;align-items: stretch;justify-content: center;background-color: white;position: relative;}#sk-container-id-1 div.sk-item::before, #sk-container-id-1 div.sk-parallel-item::before {content: \"\";position: absolute;border-left: 1px solid gray;box-sizing: border-box;top: 0;bottom: 0;left: 50%;z-index: -1;}#sk-container-id-1 div.sk-parallel-item {display: flex;flex-direction: column;z-index: 1;position: relative;background-color: white;}#sk-container-id-1 div.sk-parallel-item:first-child::after {align-self: flex-end;width: 50%;}#sk-container-id-1 div.sk-parallel-item:last-child::after {align-self: flex-start;width: 50%;}#sk-container-id-1 div.sk-parallel-item:only-child::after {width: 0;}#sk-container-id-1 div.sk-dashed-wrapped {border: 1px dashed gray;margin: 0 0.4em 0.5em 0.4em;box-sizing: border-box;padding-bottom: 0.4em;background-color: white;}#sk-container-id-1 div.sk-label label {font-family: monospace;font-weight: bold;display: inline-block;line-height: 1.2em;}#sk-container-id-1 div.sk-label-container {text-align: center;}#sk-container-id-1 div.sk-container {/* jupyter's `normalize.less` sets `[hidden] { display: none; }` but bootstrap.min.css set `[hidden] { display: none !important; }` so we also need the `!important` here to be able to override the default hidden behavior on the sphinx rendered scikit-learn.org. See: https://github.com/scikit-learn/scikit-learn/issues/21755 */display: inline-block !important;position: relative;}#sk-container-id-1 div.sk-text-repr-fallback {display: none;}</style><div id=\"sk-container-id-1\" class=\"sk-top-container\"><div class=\"sk-text-repr-fallback\"><pre>GradientBoostingRegressor(loss=&#x27;absolute_error&#x27;, max_depth=1, max_features=5,\n",
       "                          n_estimators=300, random_state=23)</pre><b>In a Jupyter environment, please rerun this cell to show the HTML representation or trust the notebook. <br />On GitHub, the HTML representation is unable to render, please try loading this page with nbviewer.org.</b></div><div class=\"sk-container\" hidden><div class=\"sk-item\"><div class=\"sk-estimator sk-toggleable\"><input class=\"sk-toggleable__control sk-hidden--visually\" id=\"sk-estimator-id-1\" type=\"checkbox\" checked><label for=\"sk-estimator-id-1\" class=\"sk-toggleable__label sk-toggleable__label-arrow\">GradientBoostingRegressor</label><div class=\"sk-toggleable__content\"><pre>GradientBoostingRegressor(loss=&#x27;absolute_error&#x27;, max_depth=1, max_features=5,\n",
       "                          n_estimators=300, random_state=23)</pre></div></div></div></div></div>"
      ],
      "text/plain": [
       "GradientBoostingRegressor(loss='absolute_error', max_depth=1, max_features=5,\n",
       "                          n_estimators=300, random_state=23)"
      ]
     },
     "execution_count": 11,
     "metadata": {},
     "output_type": "execute_result"
    }
   ],
   "source": [
    "gbr.fit(train_X, train_y)"
   ]
  },
  {
   "cell_type": "code",
   "execution_count": 12,
   "id": "157551fd",
   "metadata": {
    "execution": {
     "iopub.execute_input": "2025-01-29T18:35:26.136257Z",
     "iopub.status.busy": "2025-01-29T18:35:26.135867Z",
     "iopub.status.idle": "2025-01-29T18:35:26.279088Z",
     "shell.execute_reply": "2025-01-29T18:35:26.277781Z"
    },
    "papermill": {
     "duration": 0.150308,
     "end_time": "2025-01-29T18:35:26.280755",
     "exception": false,
     "start_time": "2025-01-29T18:35:26.130447",
     "status": "completed"
    },
    "tags": []
   },
   "outputs": [
    {
     "name": "stdout",
     "output_type": "stream",
     "text": [
      "Root mean Square error: 394.50\n"
     ]
    }
   ],
   "source": [
    "pred_y = gbr.predict(val_X)\n",
    "test_rmse = mean_squared_error(val_y, pred_y) ** (1 / 2)\n",
    "print('Root mean Square error: {:.2f}'.format(test_rmse))\n"
   ]
  },
  {
   "cell_type": "code",
   "execution_count": 13,
   "id": "4383bb35",
   "metadata": {
    "execution": {
     "iopub.execute_input": "2025-01-29T18:35:26.291410Z",
     "iopub.status.busy": "2025-01-29T18:35:26.291072Z",
     "iopub.status.idle": "2025-01-29T18:35:26.302812Z",
     "shell.execute_reply": "2025-01-29T18:35:26.301950Z"
    },
    "papermill": {
     "duration": 0.018908,
     "end_time": "2025-01-29T18:35:26.304384",
     "exception": false,
     "start_time": "2025-01-29T18:35:26.285476",
     "status": "completed"
    },
    "tags": []
   },
   "outputs": [
    {
     "data": {
      "text/plain": [
       "3.196219081568321"
      ]
     },
     "execution_count": 13,
     "metadata": {},
     "output_type": "execute_result"
    }
   ],
   "source": [
    "sklearn.metrics.mean_absolute_percentage_error(val_y, pred_y)"
   ]
  },
  {
   "cell_type": "markdown",
   "id": "f0d2cb18",
   "metadata": {
    "execution": {
     "iopub.execute_input": "2025-01-29T17:39:33.423119Z",
     "iopub.status.busy": "2025-01-29T17:39:33.422685Z",
     "iopub.status.idle": "2025-01-29T17:39:33.434807Z",
     "shell.execute_reply": "2025-01-29T17:39:33.433587Z",
     "shell.execute_reply.started": "2025-01-29T17:39:33.423084Z"
    },
    "papermill": {
     "duration": 0.004541,
     "end_time": "2025-01-29T18:35:26.313842",
     "exception": false,
     "start_time": "2025-01-29T18:35:26.309301",
     "status": "completed"
    },
    "tags": []
   },
   "source": [
    "test_x = df_test[features]\n",
    "pred = sticker_model.predict(test_x)"
   ]
  },
  {
   "cell_type": "markdown",
   "id": "9a3d64dc",
   "metadata": {
    "execution": {
     "iopub.execute_input": "2025-01-29T17:39:35.44065Z",
     "iopub.status.busy": "2025-01-29T17:39:35.440325Z",
     "iopub.status.idle": "2025-01-29T17:39:35.66455Z",
     "shell.execute_reply": "2025-01-29T17:39:35.663257Z",
     "shell.execute_reply.started": "2025-01-29T17:39:35.440625Z"
    },
    "papermill": {
     "duration": 0.004304,
     "end_time": "2025-01-29T18:35:26.322805",
     "exception": false,
     "start_time": "2025-01-29T18:35:26.318501",
     "status": "completed"
    },
    "tags": []
   },
   "source": [
    "#import pandas as pd\n",
    "#test = pd.read_csv(\"test.csv\")\n",
    "df_test[\"num_sold\"] = pred\n",
    "df_test[[\"id\",\"num_sold\"]].to_csv(\"submission.csv\",index=False)"
   ]
  },
  {
   "cell_type": "code",
   "execution_count": null,
   "id": "569abba7",
   "metadata": {
    "papermill": {
     "duration": 0.004338,
     "end_time": "2025-01-29T18:35:26.331792",
     "exception": false,
     "start_time": "2025-01-29T18:35:26.327454",
     "status": "completed"
    },
    "tags": []
   },
   "outputs": [],
   "source": []
  }
 ],
 "metadata": {
  "kaggle": {
   "accelerator": "none",
   "dataSources": [
    {
     "databundleVersionId": 10652996,
     "sourceId": 85723,
     "sourceType": "competition"
    }
   ],
   "dockerImageVersionId": 30839,
   "isGpuEnabled": false,
   "isInternetEnabled": true,
   "language": "python",
   "sourceType": "notebook"
  },
  "kernelspec": {
   "display_name": "Python 3",
   "language": "python",
   "name": "python3"
  },
  "language_info": {
   "codemirror_mode": {
    "name": "ipython",
    "version": 3
   },
   "file_extension": ".py",
   "mimetype": "text/x-python",
   "name": "python",
   "nbconvert_exporter": "python",
   "pygments_lexer": "ipython3",
   "version": "3.10.12"
  },
  "papermill": {
   "default_parameters": {},
   "duration": 23.276196,
   "end_time": "2025-01-29T18:35:27.056688",
   "environment_variables": {},
   "exception": null,
   "input_path": "__notebook__.ipynb",
   "output_path": "__notebook__.ipynb",
   "parameters": {},
   "start_time": "2025-01-29T18:35:03.780492",
   "version": "2.6.0"
  }
 },
 "nbformat": 4,
 "nbformat_minor": 5
}
